{
 "cells": [
  {
   "cell_type": "markdown",
   "id": "varying-mambo",
   "metadata": {},
   "source": [
    "# Day 2 - Advent of Code 2022 (https://adventofcode.com/2022/day/2)\n",
    "## Data Preparation"
   ]
  },
  {
   "cell_type": "code",
   "execution_count": 65,
   "id": "sitting-candidate",
   "metadata": {},
   "outputs": [],
   "source": [
    "import requests\n",
    "\n",
    "real_run = True\n",
    "day = 2"
   ]
  },
  {
   "cell_type": "code",
   "execution_count": 66,
   "id": "english-position",
   "metadata": {},
   "outputs": [],
   "source": [
    "session_token = \"53616c7465645f5f3afd595d02d0ee459ac012722d3faa118eec289ad1073e9f92096999ca74e3c098bef031673181fe145de60e7318b16c6fa559e36a38529e\""
   ]
  },
  {
   "cell_type": "code",
   "execution_count": 50,
   "id": "critical-serial",
   "metadata": {},
   "outputs": [],
   "source": [
    "with requests.Session() as s:\n",
    "    cookies = {'session': session_token}\n",
    "    response = s.get(f\"https://adventofcode.com/2022/day/{day}/input\", cookies=cookies)\n",
    "\n",
    "    with open(f\"day{day}-input.txt\", \"w\") as f:\n",
    "        f.write(response.text)"
   ]
  },
  {
   "cell_type": "code",
   "execution_count": 67,
   "id": "still-redhead",
   "metadata": {},
   "outputs": [],
   "source": [
    "# Set file name based on if we are in real or test mode.\n",
    "file_name = \"day2-input.txt\" if real_run else \"day2-test.txt\""
   ]
  },
  {
   "cell_type": "markdown",
   "id": "chubby-college",
   "metadata": {},
   "source": [
    "#### How do we get the input into a nice clean list, with no *bonus* characters?\n",
    "I like the following method, it is neat and all on one line. I don't want to fuss about opening the file and doing any more than I have to here. It uses the file `open` function, `rstrip` method and list comprehension.\n",
    "\n",
    "Resources:\n",
    "* open function: https://www.w3schools.com/python/ref_func_open.asp\n",
    "* rstrip method: https://www.w3schools.com/python/ref_string_rstrip.asp\n",
    "* list comprehension: https://www.w3schools.com/python/python_lists_comprehension.asp"
   ]
  },
  {
   "cell_type": "code",
   "execution_count": 68,
   "id": "authentic-bacon",
   "metadata": {},
   "outputs": [],
   "source": [
    "# create a list from the file, removing any '\\n' characters\n",
    "data = [line.rstrip('\\n') for line in open(file_name)]"
   ]
  },
  {
   "cell_type": "code",
   "execution_count": 69,
   "id": "fitting-probability",
   "metadata": {},
   "outputs": [
    {
     "name": "stdout",
     "output_type": "stream",
     "text": [
      "['C Z', 'C Z', 'A Y', 'A X', 'C Z', 'C Z', 'A X', 'C X', 'A X', 'C X', 'A X', 'A X', 'A X', 'A X', 'C Y', 'A X', 'A X', 'A Y', 'C Z', 'C X', 'C Z', 'C Y', 'B Y', 'C Y', 'C X', 'C X', 'A Z', 'C Y', 'A Z', 'A Z', 'B X', 'A Y', 'A X', 'B Y', 'C X', 'A X', 'A X', 'C Z', 'C Y', 'B X', 'A Y', 'C Z', 'C Y', 'C Z', 'C Z', 'A X', 'C Z', 'C Y', 'C X', 'C Z', 'A X', 'C Z', 'A Y', 'A X', 'A X', 'A X', 'A X', 'C X', 'A X', 'A X', 'C X', 'A X', 'C Y', 'C Y', 'A X', 'C Z', 'C Y', 'A X', 'C Z', 'C Y', 'C Z', 'C Z', 'B X', 'C Z', 'C X', 'C X', 'B Z', 'A X', 'A X', 'C Z', 'C X', 'C X', 'A X', 'A Y', 'C X', 'C Y', 'A X', 'C Z', 'A Z', 'C Z', 'A Z', 'A Z', 'C X', 'A X', 'A X', 'C Z', 'C Y', 'C Z', 'A X', 'A X', 'C X', 'A X', 'C X', 'A X', 'A Z', 'A Y', 'C Y', 'A Y', 'C Z', 'A X', 'A Y', 'C X', 'A Z', 'C Y', 'C Z', 'C Z', 'A Y', 'C Z', 'A Z', 'C Z', 'A Z', 'A Z', 'A X', 'C X', 'A Y', 'A X', 'C Z', 'A X', 'C Z', 'C Z', 'A X', 'C Z', 'C X', 'A Z', 'A X', 'A Z', 'A X', 'C Z', 'A X', 'C X', 'A X', 'A X', 'C X', 'C Z', 'C Y', 'C Z', 'A Y', 'C Z', 'C Z', 'A X', 'C X', 'B X', 'C X', 'A X', 'C Y', 'C Z', 'C Z', 'C Z', 'A Z', 'C Y', 'A X', 'C X', 'B X', 'B X', 'C Y', 'C X', 'A X', 'C X', 'C X', 'A Y', 'C Z', 'A X', 'A X', 'A X', 'C Z', 'A X', 'C Z', 'C Y', 'C Z', 'C X', 'A X', 'C Z', 'A X', 'C Z', 'C X', 'C X', 'A X', 'C Z', 'C Z', 'C X', 'A Y', 'B X', 'B Z', 'A Z', 'C Z', 'A X', 'A X', 'A X', 'C X', 'C X', 'C Y', 'C Z', 'A Y', 'B Z', 'A X', 'C X', 'C X', 'C X', 'C Y', 'C X', 'A X', 'A X', 'A Z', 'A X', 'A X', 'C Z', 'C Z', 'C Z', 'A X', 'C X', 'C X', 'C Y', 'A X', 'C Z', 'A Z', 'C X', 'A X', 'C X', 'C Z', 'A X', 'A X', 'C Z', 'C X', 'C Y', 'A X', 'C Y', 'C Z', 'A Z', 'C X', 'A X', 'A X', 'A X', 'A Z', 'C X', 'C X', 'A X', 'A X', 'B X', 'C Y', 'C X', 'C Z', 'C Y', 'A X', 'C X', 'C Z', 'C Y', 'C Y', 'C X', 'C Y', 'B X', 'C X', 'C Y', 'A X', 'C Z', 'C Y', 'A X', 'A X', 'C X', 'A X', 'A X', 'A Z', 'C X', 'A Z', 'C X', 'C X', 'C X', 'C Y', 'A Z', 'C Z', 'A X', 'B X', 'C X', 'A X', 'A Z', 'C X', 'C Z', 'B X', 'C X', 'A X', 'A Y', 'A Z', 'C Z', 'C Z', 'C X', 'A Z', 'C Z', 'C Z', 'C X', 'C Y', 'C Z', 'C Z', 'C X', 'A Z', 'C Z', 'C X', 'A X', 'A X', 'A X', 'A Z', 'A Z', 'C Z', 'A X', 'C X', 'A X', 'C X', 'C Z', 'C X', 'C X', 'A X', 'C X', 'B Y', 'A X', 'B X', 'A X', 'C X', 'C Z', 'A X', 'C X', 'A X', 'A X', 'C Z', 'C X', 'C X', 'C X', 'C Z', 'A X', 'B X', 'A Z', 'C X', 'B Z', 'C Z', 'B Z', 'C Z', 'A Y', 'A X', 'B Y', 'A X', 'A X', 'C Z', 'C X', 'A X', 'B X', 'C X', 'B Z', 'C Z', 'A X', 'A X', 'A X', 'A X', 'A X', 'A X', 'A X', 'C Y', 'A Y', 'C X', 'C Z', 'C X', 'C Y', 'C Z', 'C X', 'A X', 'C Z', 'A X', 'A Z', 'C X', 'C Z', 'C Y', 'A X', 'C X', 'C Z', 'A X', 'A Y', 'C X', 'A X', 'C Y', 'A Y', 'C Y', 'A Z', 'C Z', 'A X', 'C Z', 'C Z', 'A X', 'C Z', 'A Z', 'C X', 'C Z', 'B X', 'C X', 'A X', 'A Y', 'A X', 'C Z', 'A Y', 'A Y', 'C X', 'B Z', 'C X', 'A X', 'A X', 'A X', 'A X', 'A X', 'C X', 'C Z', 'A Z', 'A X', 'C Y', 'C Z', 'A X', 'A Z', 'B Z', 'A Z', 'A X', 'C Y', 'C X', 'C X', 'C X', 'B Z', 'A X', 'C Y', 'A X', 'A X', 'A X', 'C Y', 'A X', 'B X', 'C X', 'C X', 'C Z', 'C Z', 'A X', 'C Y', 'A Z', 'A X', 'C X', 'A X', 'C X', 'C X', 'C Z', 'A X', 'C Y', 'C Y', 'A X', 'A Z', 'A Z', 'A X', 'C X', 'A X', 'C Y', 'B X', 'A X', 'C Y', 'C X', 'B X', 'C Z', 'A X', 'A X', 'C X', 'C Z', 'C Z', 'C X', 'C Y', 'C Y', 'A X', 'C Z', 'C X', 'C Y', 'C X', 'A X', 'A X', 'A X', 'B Y', 'C X', 'A X', 'C X', 'C X', 'A X', 'C Z', 'C Z', 'C X', 'B X', 'A Y', 'A Y', 'C Z', 'C Y', 'C X', 'C Y', 'B Y', 'A Z', 'C X', 'A X', 'A Z', 'A Y', 'C X', 'A Z', 'C Z', 'C Y', 'C Z', 'A X', 'C X', 'C Z', 'C X', 'C X', 'A X', 'C Z', 'A Z', 'C X', 'C Y', 'C X', 'A X', 'A Z', 'C Z', 'C X', 'A Z', 'B Z', 'C Y', 'B X', 'A Y', 'B X', 'B Y', 'A Y', 'A X', 'A Z', 'C X', 'C X', 'A X', 'C X', 'C Z', 'C Y', 'A Z', 'A X', 'C Z', 'A X', 'A X', 'A Z', 'A X', 'A X', 'C Z', 'A X', 'C X', 'A X', 'A X', 'A Y', 'C Z', 'A X', 'C Z', 'A Z', 'A X', 'A X', 'A Y', 'C Z', 'A Z', 'A Z', 'A X', 'C X', 'A X', 'A X', 'C Z', 'C X', 'C X', 'C X', 'C Y', 'C X', 'A X', 'B X', 'B X', 'C Z', 'C Z', 'C Z', 'C X', 'B Y', 'A Y', 'B X', 'B X', 'C X', 'C X', 'C X', 'A X', 'C Y', 'A Z', 'A X', 'C X', 'A X', 'A X', 'A X', 'B X', 'C Y', 'A X', 'C Z', 'A X', 'C X', 'A X', 'C Z', 'C X', 'A X', 'A Z', 'A X', 'A X', 'A X', 'C Z', 'A Y', 'B X', 'A X', 'B X', 'C Z', 'A X', 'A X', 'C Y', 'C Z', 'C Z', 'A X', 'C X', 'A X', 'A X', 'A X', 'A X', 'A X', 'C X', 'A X', 'C Y', 'C X', 'B X', 'A X', 'C Y', 'C Z', 'A X', 'A X', 'C X', 'A Z', 'A X', 'A Z', 'A X', 'C Z', 'A X', 'B X', 'C X', 'A X', 'C X', 'A X', 'C Y', 'C Z', 'A X', 'C Z', 'C Z', 'C X', 'B X', 'C Z', 'A X', 'A Z', 'C X', 'A X', 'C X', 'C Z', 'C Z', 'C Y', 'C Z', 'A X', 'C X', 'C Z', 'A Z', 'C Z', 'A Z', 'C X', 'C Z', 'A X', 'A X', 'B X', 'A Z', 'B X', 'C Y', 'C Z', 'C X', 'A X', 'C Z', 'C Z', 'C Z', 'B X', 'C X', 'C X', 'A Z', 'A X', 'C Y', 'A X', 'B Z', 'B X', 'A X', 'C Y', 'B X', 'C Z', 'C Y', 'C Z', 'A X', 'C Y', 'A X', 'A X', 'A Z', 'A X', 'A X', 'C X', 'C Y', 'C Z', 'C Z', 'C Y', 'B Y', 'C Z', 'A X', 'A X', 'C X', 'C X', 'C X', 'A X', 'C Y', 'A X', 'A Y', 'A X', 'C X', 'C Y', 'C Y', 'B X', 'A X', 'C Z', 'A X', 'C Z', 'C X', 'A X', 'A Z', 'C X', 'C Y', 'A X', 'A Z', 'A Z', 'C Y', 'A X', 'C Z', 'C Z', 'A X', 'A Z', 'B X', 'A X', 'C Y', 'C X', 'B Z', 'C Z', 'A X', 'C Y', 'A X', 'C Y', 'A Z', 'A X', 'C X', 'C Y', 'B X', 'A X', 'B X', 'A X', 'A X', 'B Y', 'A X', 'A X', 'C X', 'A X', 'C X', 'A X', 'A X', 'C Y', 'A X', 'C Z', 'C Z', 'A Z', 'C X', 'A Z', 'C Y', 'C Z', 'C X', 'A X', 'C Z', 'A X', 'C Y', 'A X', 'A Z', 'C Y', 'C X', 'C X', 'C Z', 'B X', 'A X', 'A X', 'A Z', 'C Z', 'C X', 'A X', 'C X', 'A Z', 'A Z', 'A X', 'C X', 'C Z', 'B Z', 'C X', 'C X', 'A X', 'A X', 'A X', 'C Y', 'C X', 'A X', 'C Z', 'A X', 'B Y', 'A X', 'A X', 'C X', 'B X', 'A X', 'C X', 'B Y', 'A Z', 'C X', 'C X', 'A X', 'A X', 'A X', 'C Y', 'C X', 'A Z', 'C X', 'A X', 'C Z', 'C Z', 'C Y', 'A X', 'A X', 'B Z', 'C Y', 'C Z', 'A X', 'C Z', 'A X', 'C Z', 'B X', 'A Z', 'A Z', 'C X', 'A X', 'C Z', 'C X', 'A X', 'A X', 'C X', 'C Z', 'C X', 'A X', 'C X', 'A X', 'A X', 'C Z', 'C X', 'A X', 'A X', 'A X', 'A X', 'C Y', 'A X', 'C X', 'C Z', 'C Y', 'C Z', 'C X', 'C Z', 'A X', 'C X', 'C Z', 'C Z', 'C Z', 'B X', 'C X', 'A Z', 'A Z', 'A X', 'C X', 'C Z', 'B Z', 'C Z', 'C Z', 'A Y', 'A Y', 'C X', 'A X', 'A X', 'A Z', 'A X', 'A Y', 'A Z', 'A X', 'A X', 'C Z', 'C Z', 'A Y', 'A X', 'B X', 'A X', 'A X', 'C X', 'A X', 'A Z', 'C Z', 'C X', 'C Z', 'C X', 'A Z', 'B X', 'A X', 'A X', 'C X', 'B Y', 'A X', 'C Z', 'A X', 'A Y', 'A Z', 'A X', 'C Z', 'A Z', 'B X', 'C Z', 'C Y', 'A X', 'C Y', 'A X', 'C X', 'C X', 'C X', 'A X', 'C X', 'C Z', 'C Y', 'A Z', 'C X', 'C Y', 'A X', 'A X', 'C Z', 'A X', 'C X', 'C X', 'A X', 'A X', 'A Z', 'C X', 'C Z', 'A Z', 'A Z', 'A X', 'B X', 'B X', 'A X', 'C Z', 'A Z', 'C Z', 'C X', 'C Z', 'B X', 'C X', 'C X', 'B Z', 'A X', 'A Z', 'B Z', 'B Z', 'C X', 'A Z', 'A X', 'A Y', 'C X', 'A X', 'C Z', 'A X', 'C X', 'A X', 'C Z', 'C X', 'C X', 'C X', 'C Z', 'B Z', 'A X', 'A X', 'A X', 'C Z', 'A X', 'A X', 'C X', 'B Z', 'C X', 'C X', 'A X', 'B Y', 'C X', 'C X', 'C X', 'A X', 'C X', 'A Z', 'C Y', 'B Z', 'A X', 'C Z', 'C Z', 'C Z', 'C Z', 'A Y', 'C Z', 'A X', 'A X', 'C X', 'C X', 'A X', 'C X', 'A Z', 'A X', 'C Z', 'C X', 'A X', 'C Z', 'C X', 'C Z', 'B Z', 'A X', 'C Y', 'C Z', 'A X', 'A X', 'C Y', 'A Z', 'C X', 'C Z', 'C Z', 'C Y', 'C Z', 'A X', 'C X', 'A X', 'A X', 'C X', 'A X', 'C Z', 'A X', 'A Z', 'A X', 'C Z', 'C Z', 'B X', 'C Z', 'A Y', 'A Z', 'A X', 'C Y', 'C X', 'C Y', 'A X', 'A Z', 'A X', 'A X', 'A X', 'C X', 'B X', 'C X', 'A Y', 'A Y', 'C Z', 'A X', 'A X', 'A Z', 'C X', 'A X', 'A Z', 'C Z', 'C Z', 'C X', 'C X', 'A X', 'A X', 'C Z', 'A X', 'C Z', 'C Z', 'B Z', 'A X', 'A X', 'C Z', 'A X', 'C Z', 'C Y', 'C X', 'A X', 'A Z', 'A X', 'A X', 'A X', 'C Y', 'C Z', 'A X', 'C Y', 'C Z', 'C Z', 'A X', 'A Z', 'A X', 'C Z', 'C Y', 'C Z', 'C Y', 'A X', 'C X', 'A X', 'A X', 'A X', 'C X', 'A X', 'A X', 'C Y', 'C X', 'A X', 'C X', 'A Z', 'A X', 'C Z', 'C X', 'B Z', 'C Z', 'A X', 'C Y', 'C Z', 'C X', 'A X', 'A X', 'B Y', 'A X', 'B X', 'C X', 'A X', 'A X', 'C X', 'C Y', 'A X', 'A X', 'A X', 'C X', 'C Z', 'A X', 'B X', 'C Y', 'C Y', 'A X', 'C Y', 'C X', 'A X', 'C X', 'A X', 'A X', 'A X', 'C X', 'C X', 'B Z', 'A X', 'C X', 'A X', 'C Z', 'A X', 'C Y', 'A X', 'C Z', 'C Z', 'C Y', 'A X', 'A Z', 'A X', 'C X', 'C Z', 'A X', 'C Z', 'C X', 'C Z', 'A X', 'C Y', 'A X', 'C Z', 'C Y', 'C X', 'A X', 'A Y', 'B X', 'A X', 'A Y', 'A X', 'A X', 'A X', 'A X', 'C Z', 'C Y', 'B X', 'A X', 'C X', 'A X', 'C X', 'A X', 'A Y', 'A X', 'C Z', 'A Z', 'C X', 'A X', 'A X', 'A X', 'C Z', 'C Z', 'C Y', 'C X', 'A X', 'C X', 'C Y', 'A Z', 'C X', 'A X', 'C Y', 'C Z', 'C Z', 'A X', 'A X', 'C Z', 'C Z', 'C X', 'C X', 'C X', 'C Z', 'C Y', 'C X', 'B Z', 'C Z', 'A X', 'C Z', 'A X', 'A X', 'C X', 'C X', 'C Y', 'A Y', 'A X', 'C X', 'A X', 'C X', 'C X', 'A X', 'A X', 'A Y', 'C Z', 'C Y', 'A X', 'A X', 'A X', 'A X', 'C X', 'C Y', 'A X', 'A Y', 'A X', 'A X', 'C X', 'A Z', 'C Z', 'C Z', 'C Z', 'C Z', 'A X', 'C Z', 'C X', 'C X', 'B X', 'C X', 'C Z', 'C X', 'A Z', 'C Z', 'B X', 'B Z', 'C Y', 'A X', 'B X', 'A X', 'A X', 'A X', 'C X', 'C X', 'A X', 'C Y', 'A X', 'C Y', 'B Y', 'C Y', 'A X', 'C X', 'C Y', 'C Z', 'C X', 'A X', 'A X', 'C X', 'B X', 'C Z', 'C X', 'A X', 'A Z', 'A X', 'C Z', 'C X', 'B X', 'A Z', 'A X', 'B Z', 'C Z', 'A X', 'C Y', 'A X', 'C Z', 'B X', 'C X', 'C X', 'C Y', 'A X', 'A X', 'A X', 'C Z', 'C X', 'B Z', 'C Z', 'B X', 'B Z', 'A X', 'A Z', 'A X', 'C X', 'C X', 'C Z', 'C X', 'C X', 'B Y', 'A X', 'A X', 'A X', 'A X', 'A X', 'A X', 'C X', 'A Z', 'A Z', 'C X', 'C X', 'A X', 'B Y', 'C X', 'C X', 'A Z', 'A X', 'B X', 'A X', 'C X', 'C Z', 'C Y', 'C Z', 'C Z', 'B X', 'C Y', 'C X', 'A X', 'A X', 'C X', 'C Y', 'C Z', 'A X', 'C X', 'A X', 'B Z', 'A X', 'C Y', 'C X', 'C X', 'A X', 'C Z', 'C Z', 'A X', 'C X', 'C X', 'C X', 'A X', 'A Z', 'C X', 'A X', 'C Z', 'A X', 'C Z', 'C Z', 'A X', 'C Z', 'A Z', 'C X', 'A X', 'A X', 'C Z', 'A X', 'A X', 'A X', 'C X', 'A X', 'A X', 'C Z', 'C X', 'C Y', 'B X', 'C X', 'C Y', 'C X', 'A X', 'A Y', 'A X', 'A X', 'A Z', 'C Z', 'A X', 'C X', 'C X', 'C X', 'C X', 'B Z', 'A X', 'B Y', 'C X', 'C X', 'C Y', 'C X', 'C Z', 'C Z', 'A X', 'C X', 'A X', 'C X', 'A Z', 'C Y', 'B X', 'A X', 'C X', 'C Z', 'C Y', 'B X', 'C Y', 'A X', 'C X', 'A X', 'A X', 'A Z', 'A X', 'B X', 'C X', 'A X', 'A Y', 'A X', 'C X', 'C Z', 'A Z', 'A X', 'A X', 'C Z', 'A X', 'C X', 'A X', 'C X', 'A X', 'C Z', 'C Y', 'A X', 'C X', 'A X', 'C Z', 'A Y', 'B X', 'C Z', 'C Z', 'A X', 'A X', 'A Y', 'A Z', 'A X', 'C X', 'C Y', 'C Z', 'A X', 'C Z', 'C Z', 'B X', 'A X', 'A X', 'A X', 'C Y', 'A Z', 'C Z', 'C Z', 'A Z', 'A X', 'A X', 'B X', 'C X', 'B X', 'A X', 'C Z', 'A Y', 'C Z', 'A X', 'C X', 'C Z', 'C X', 'A X', 'C X', 'A X', 'A X', 'C Z', 'A Z', 'C X', 'C X', 'B Z', 'C Z', 'A Y', 'A X', 'C X', 'C Z', 'A X', 'C Z', 'C X', 'C Y', 'C X', 'A Y', 'C Z', 'C Z', 'A X', 'A X', 'A X', 'C Z', 'C Y', 'C Z', 'A X', 'C Z', 'A X', 'C X', 'A X', 'A Y', 'A X', 'A Z', 'A X', 'A Y', 'A X', 'A X', 'A X', 'A Z', 'A X', 'C Z', 'C Z', 'C Z', 'C X', 'A X', 'A Z', 'C X', 'C Z', 'A X', 'C X', 'C Y', 'A X', 'C X', 'A X', 'C Y', 'A X', 'A X', 'C Z', 'C X', 'A X', 'C Z', 'A X', 'A X', 'C Z', 'C X', 'C Z', 'C Y', 'A Y', 'C Z', 'C X', 'B X', 'A X', 'A X', 'A Z', 'A X', 'A X', 'C X', 'C Z', 'A X', 'C X', 'A Z', 'B X', 'A Z', 'C Z', 'C Z', 'A X', 'B X', 'A X', 'A Y', 'A X', 'A X', 'C Z', 'A X', 'C Y', 'C Z', 'C Y', 'A X', 'A X', 'A X', 'A X', 'B Z', 'B Z', 'A X', 'C X', 'C X', 'A X', 'C X', 'C Y', 'B X', 'C Y', 'B X', 'A X', 'B Z', 'C Z', 'A X', 'A X', 'C X', 'A Z', 'A X', 'C X', 'C Z', 'A X', 'C X', 'C X', 'C X', 'C Z', 'C Y', 'A X', 'A X', 'A X', 'C Z', 'C Z', 'C X', 'C Z', 'B X', 'A X', 'C Z', 'C Z', 'C Y', 'A X', 'A X', 'C Z', 'A Z', 'C X', 'C Z', 'C Y', 'C Z', 'C Z', 'A X', 'C Z', 'C Y', 'C X', 'B X', 'C Z', 'A Y', 'C Z', 'C X', 'C X', 'A X', 'A X', 'A X', 'C Z', 'B Z', 'A X', 'A Z', 'B X', 'A Z', 'A Z', 'C Z', 'C Z', 'C X', 'C Y', 'C Y', 'C Z', 'A Z', 'C Y', 'C X', 'C Y', 'A Z', 'B Y', 'A X', 'C Y', 'A X', 'A X', 'A Z', 'C Z', 'C Z', 'C Z', 'C X', 'C X', 'C Z', 'C Z', 'A X', 'C X', 'A Y', 'A Y', 'A X', 'B Z', 'A X', 'C X', 'A X', 'C X', 'A X', 'A X', 'A X', 'C X', 'C Y', 'C Z', 'C Z', 'A X', 'C Z', 'A X', 'C X', 'C X', 'C Z', 'A X', 'A X', 'A X', 'C X', 'C Z', 'A X', 'A X', 'A X', 'A X', 'C Z', 'B Y', 'A X', 'A X', 'A X', 'C Y', 'A X', 'A X', 'A Z', 'C X', 'A Z', 'C Z', 'A Z', 'C Z', 'A X', 'A Z', 'A X', 'A X', 'A X', 'A X', 'A Y', 'C X', 'C Z', 'A X', 'A Z', 'C X', 'A Y', 'C Z', 'C Y', 'A X', 'B X', 'A Y', 'C X', 'A X', 'C Z', 'C X', 'A X', 'C Z', 'C X', 'A X', 'C X', 'C X', 'C Z', 'A X', 'A Y', 'C Y', 'C Y', 'A X', 'A X', 'A X', 'A X', 'A X', 'C X', 'A Y', 'C Z', 'C Z', 'C Y', 'A X', 'C Z', 'C Z', 'A X', 'C X', 'C X', 'C Y', 'A X', 'A X', 'C X', 'C X', 'A Z', 'A X', 'C Z', 'A X', 'C Z', 'A X', 'B X', 'A Z', 'B X', 'C Z', 'C Z', 'C X', 'A X', 'A Z', 'C X', 'A X', 'A X', 'C X', 'C Y', 'C Z', 'C X', 'C X', 'A X', 'C Z', 'C Z', 'C X', 'B X', 'C Z', 'A X', 'B X', 'A Z', 'C X', 'A Z', 'A X', 'A X', 'C X', 'A X', 'C Z', 'A X', 'A X', 'C Z', 'C Z', 'C Z', 'A X', 'C X', 'A Y', 'C Y', 'A X', 'A X', 'A X', 'A X', 'C X', 'C Z', 'A X', 'A X', 'A X', 'C X', 'C Z', 'A X', 'C Z', 'A X', 'A Y', 'C Y', 'C X', 'C X', 'A X', 'A X', 'A X', 'A Z', 'A X', 'C Z', 'A X', 'C Y', 'B Z', 'B X', 'A X', 'C X', 'C Z', 'A X', 'A X', 'C Z', 'B X', 'B X', 'C X', 'C Y', 'C X', 'B X', 'A X', 'A X', 'C X', 'A Z', 'A X', 'C X', 'C X', 'C X', 'A X', 'C Z', 'A Y', 'A X', 'C Y', 'A X', 'A X', 'C Z', 'A Z', 'A Z', 'C X', 'C X', 'C Y', 'C Y', 'C X', 'C X', 'C Z', 'A X', 'C X', 'A X', 'A X', 'A X', 'A X', 'C Y', 'C Z', 'A X', 'C Z', 'C X', 'C X', 'A X', 'A X', 'A Z', 'C Y', 'C X', 'A X', 'C X', 'A X', 'A Z', 'A X', 'A Z', 'A X', 'A X', 'A X', 'C X', 'A Z', 'A X', 'C X', 'C Y', 'A Z', 'A X', 'B X', 'C X', 'C Y', 'C Z', 'C X', 'C Y', 'C X', 'C X', 'A X', 'C Y', 'B X', 'A Z', 'C Z', 'B Z', 'C X', 'A X', 'C Z', 'A X', 'C X', 'A X', 'A X', 'A X', 'C Z', 'C Y', 'B Z', 'A X', 'C X', 'A Y', 'C Z', 'A X', 'A X', 'A Z', 'A Z', 'A Y', 'C X', 'C Z', 'C X', 'A Z', 'C X', 'C Z', 'C X', 'B X', 'A X', 'C Z', 'A X', 'A X', 'C Z', 'A Z', 'C X', 'C Y', 'C X', 'C X', 'C Y', 'A X', 'A X', 'C X', 'A Z', 'C X', 'C Z', 'C X', 'A Z', 'A X', 'A Y', 'A X', 'A X', 'B Z', 'C Z', 'C Z', 'A Y', 'C X', 'A X', 'B X', 'A X', 'A Z', 'C Y', 'C Z', 'C X', 'C Z', 'C Z', 'C X', 'C X', 'A X', 'C X', 'A Z', 'C Z', 'C Z', 'C Z', 'C Y', 'C X', 'A X', 'C Z', 'A Z', 'C Z', 'C Z', 'A X', 'C X', 'A X', 'C Z', 'A X', 'B X', 'A X', 'C Z', 'C X', 'C X', 'A X', 'C Y', 'A X', 'C Z', 'B X', 'C Z', 'C X', 'A X', 'C X', 'C X', 'C Z', 'A X', 'A X', 'C Z', 'C Z', 'C X', 'C Z', 'C X', 'A X', 'A X', 'C Z', 'C X', 'C X', 'A X', 'C Z', 'A Z', 'C Z', 'B X', 'C X', 'C Y', 'C X', 'C Z', 'A X', 'B X', 'C Z', 'A X', 'C Z', 'A Z', 'C Z', 'C X', 'A X', 'C Z', 'C Z', 'A X', 'A X', 'C Z', 'A X', 'C Y', 'A Z', 'C X', 'C Z', 'A X', 'B Z', 'B X', 'A X', 'A Z', 'A X', 'A Z', 'A X', 'A X', 'C Y', 'A X', 'C Y', 'C X', 'C Y', 'C Y', 'C X', 'A X', 'A Z', 'A Z', 'C X', 'C Z', 'B X', 'A X', 'C Z', 'A Z', 'C X', 'C Z', 'C Y', 'A X', 'A X', 'C Z', 'C Z', 'C Y', 'A Z', 'C Z', 'C Y', 'A X', 'C X', 'A X', 'C X', 'C Z', 'A Z', 'B Z', 'A X', 'A X', 'A X', 'C X', 'C X', 'A Y', 'A Z', 'C X', 'C Z', 'A X', 'B X', 'A X', 'A X', 'C X', 'C X', 'B X', 'A X', 'B X', 'C Z', 'A Z', 'C Z', 'A X', 'C X', 'C Z', 'C Y', 'A Y', 'A Z', 'C Y', 'C Z', 'A X', 'A X', 'C X', 'A X', 'C Z', 'C Y', 'A X', 'C Z', 'A X', 'A X', 'B X', 'A X', 'A Z', 'C X', 'C Y', 'A Z', 'C Z', 'A X', 'A Z', 'C X', 'C Z', 'C X', 'C Z', 'A X', 'A X', 'A X', 'C X', 'A X', 'C Z', 'C X', 'C X', 'C X', 'C X', 'A X', 'C X', 'B Y', 'A Z', 'A Z', 'C Z', 'C X', 'A Y', 'C X', 'A X', 'C X', 'C Z', 'B Z', 'C Z', 'B X', 'A X', 'A Z', 'A X', 'C X', 'A X', 'C Z', 'C Z', 'C Z', 'A X', 'C Z', 'A X', 'C Z', 'C X', 'C X', 'C X', 'B X', 'A X', 'A X', 'B X', 'C X', 'A X', 'C Z', 'A Z', 'C Y', 'C Z', 'A Z', 'B Z', 'A Z', 'C Z', 'C Z', 'C X', 'A X', 'A X', 'C X', 'C X', 'C Y', 'A Y', 'A Z', 'A X', 'C Z', 'C Z', 'C Y', 'C X', 'A X', 'A X', 'C Y', 'A Z', 'C X', 'C X', 'C X', 'A X', 'C X', 'C X', 'A Z', 'C X', 'C Y', 'A Z', 'C Z', 'C Y', 'A Z', 'C Z', 'A X', 'C X', 'C Y', 'C X', 'C X', 'C Z', 'C X', 'C X', 'C Z', 'C X', 'A X', 'B Y', 'A X', 'C X', 'B Z', 'C Z', 'C X', 'C Z', 'C Z', 'A Y', 'A Y', 'A X', 'A Z', 'C Z', 'A X', 'C X', 'C Z', 'A Z', 'A X', 'A X', 'A X', 'B X', 'A X', 'B Z', 'C X', 'A X', 'C X', 'A Z', 'C X', 'A X', 'C Y', 'A X', 'C X', 'C Y', 'A Z', 'C Z', 'C Z', 'B X', 'A X', 'C X', 'A X', 'C X', 'C Y', 'A X', 'C Y', 'A X', 'B X', 'C Y', 'A X', 'A X', 'C X', 'A X', 'B Y', 'C Y', 'C Y', 'C Y', 'C X', 'A Y', 'C X', 'C Z', 'A X', 'A Z', 'A X', 'A X', 'C Z', 'A Z', 'A Z', 'C X', 'A X', 'A X', 'B X', 'C X', 'C Y', 'C X', 'B Z', 'A X', 'C X', 'C Y', 'C X', 'C Z', 'C Y', 'A X', 'C X', 'A X', 'A X', 'A Y', 'C Z', 'C Z', 'C Z', 'A X', 'A X', 'A Z', 'A X', 'A X', 'A Z', 'A X', 'C Y', 'C Y', 'A X', 'A X', 'A Z', 'C X', 'A X', 'C Z', 'A Z', 'C Z', 'C Y', 'C Z', 'A X', 'C Z', 'C X', 'C Z', 'A X', 'C Y', 'C Y', 'B X', 'A X', 'A Z', 'C X', 'A X', 'A X', 'C Z', 'A X', 'C X', 'C Z', 'A Z', 'A Y', 'A Y', 'A X', 'C X', 'A Y', 'A X', 'A X', 'B Z', 'A X', 'C X', 'C X', 'C X', 'A X', 'C X', 'C Z', 'C Z', 'A Z', 'C X', 'C X', 'C Y', 'A X', 'C X', 'A X', 'A X', 'C Y', 'C X', 'A X', 'C Y', 'C X', 'C X', 'A Y', 'C Z', 'C X', 'C X', 'C Y', 'C Z', 'A Y', 'A X', 'C Z', 'C Z', 'C Z', 'C X', 'C Z', 'A X', 'A X', 'A Z', 'A X', 'C Y', 'C X', 'C Z', 'A X', 'A X', 'C Z', 'A X', 'C X', 'A X', 'A Y', 'C X']\n"
     ]
    }
   ],
   "source": [
    "# print data to check it's what we want it to be\n",
    "print(data)"
   ]
  },
  {
   "cell_type": "markdown",
   "id": "anonymous-filling",
   "metadata": {},
   "source": [
    "## Part One\n",
    "\n",
    "For example, suppose you were given the following strategy guide:\n",
    "\n",
    "A Y\n",
    "B X\n",
    "C Z\n",
    "This strategy guide predicts and recommends the following:\n",
    "\n",
    "In the first round, your opponent will choose Rock (A), and you should choose Paper (Y). This ends in a win for you with a score of 8 (2 because you chose Paper + 6 because you won).\n",
    "In the second round, your opponent will choose Paper (B), and you should choose Rock (X). This ends in a loss for you with a score of 1 (1 + 0).\n",
    "The third round is a draw with both players choosing Scissors, giving you a score of 3 + 3 = 6.\n",
    "In this example, if you were to follow the strategy guide, you would get a total score of 15 (8 + 1 + 6).\n",
    "\n",
    "What would your total score be if everything goes exactly according to your strategy guide?"
   ]
  },
  {
   "cell_type": "code",
   "execution_count": 70,
   "id": "preceding-coral",
   "metadata": {},
   "outputs": [],
   "source": [
    "def result(player_a, player_b):\n",
    "    # match => draw\n",
    "    if (player_a == player_b):\n",
    "        return \"draw\"\n",
    "    \n",
    "    # rock vs scissors\n",
    "    if (player_a == 1 and player_b == 3):\n",
    "        return \"lose\"\n",
    "    if (player_b == 1 and player_a == 3):\n",
    "        return \"win\"\n",
    "    \n",
    "    # scissors vs paper\n",
    "    if (player_a == 3 and player_b == 2):\n",
    "        return \"lose\"\n",
    "    if (player_b == 3 and player_a == 2):\n",
    "        return \"win\"\n",
    "    \n",
    "    # paper vs rock\n",
    "    if (player_a == 2 and player_b == 1):\n",
    "        return \"lose\"\n",
    "    if (player_b == 2 and player_a == 1):\n",
    "        return \"win\"\n",
    "    \n",
    "    return \"PANIC\""
   ]
  },
  {
   "cell_type": "code",
   "execution_count": 71,
   "id": "entire-arthritis",
   "metadata": {},
   "outputs": [],
   "source": [
    "them_map = { 'A':1, 'B':2, 'C':3 }\n",
    "me_map = { 'X':1, 'Y':2, 'Z':3 }\n",
    "res_map = { 'win':6, 'draw':3, 'lose':0 }"
   ]
  },
  {
   "cell_type": "code",
   "execution_count": 72,
   "id": "supreme-verification",
   "metadata": {},
   "outputs": [
    {
     "name": "stdout",
     "output_type": "stream",
     "text": [
      "12156\n"
     ]
    }
   ],
   "source": [
    "total = 0\n",
    "\n",
    "for item in data:\n",
    "    them, me = item.split(' ')\n",
    "    them_num = them_map[them]\n",
    "    me_num = me_map[me]\n",
    "    total += me_num\n",
    "    \n",
    "    res = result(them_num, me_num)\n",
    "    res_num = res_map[res]\n",
    "        \n",
    "    total += res_map[res]\n",
    "    \n",
    "    if(not real_run):\n",
    "        print(them_num, me_num, res, res_num, \". total\", total)\n",
    "\n",
    "print(total)"
   ]
  },
  {
   "cell_type": "markdown",
   "id": "forced-conducting",
   "metadata": {},
   "source": [
    "## Part Two\n",
    "\n",
    "\"The Elf finishes helping with the tent and sneaks back over to you. \"Anyway, the second column says how the round needs to end: X means you need to lose, Y means you need to end the round in a draw, and Z means you need to win. Good luck!\"\n",
    "\n",
    "The total score is still calculated in the same way, but now you need to figure out what shape to choose so the round ends as indicated. The example above now goes like this:\n",
    "\n",
    "In the first round, your opponent will choose Rock (A), and you need the round to end in a draw (Y), so you also choose Rock. This gives you a score of 1 + 3 = 4.\n",
    "In the second round, your opponent will choose Paper (B), and you choose Rock so you lose (X) with a score of 1 + 0 = 1.\n",
    "In the third round, you will defeat your opponent's Scissors with Rock for a score of 1 + 6 = 7.\n",
    "Now that you're correctly decrypting the ultra top secret strategy guide, you would get a total score of 12.\n",
    "\n",
    "Following the Elf's instructions for the second column, what would your total score be if everything goes exactly according to your strategy guide?\""
   ]
  },
  {
   "cell_type": "code",
   "execution_count": 73,
   "id": "sustainable-legislature",
   "metadata": {},
   "outputs": [],
   "source": [
    "res_final_map = { 'X':0, 'Y':3, 'Z':6 }\n",
    "me_hand_map = {\n",
    "    'A': { 'X':3, 'Y':1, 'Z':2 },\n",
    "    'B': { 'X':1, 'Y':2, 'Z':3 },\n",
    "    'C': { 'X':2, 'Y':3, 'Z':1 }\n",
    "}"
   ]
  },
  {
   "cell_type": "code",
   "execution_count": 74,
   "id": "public-homeless",
   "metadata": {},
   "outputs": [
    {
     "name": "stdout",
     "output_type": "stream",
     "text": [
      "10835\n"
     ]
    }
   ],
   "source": [
    "total = 0\n",
    "\n",
    "for item in data:\n",
    "    them, me = item.split(' ')\n",
    "    them_num = them_map[them]\n",
    "    \n",
    "    me_num = me_hand_map[them][me]\n",
    "    total += me_num\n",
    "    \n",
    "    res_num = res_final_map[me]\n",
    "    total += res_num\n",
    "    \n",
    "    if(not real_run):\n",
    "        print(them_num, me_num, res_num, \". total\", total)\n",
    "\n",
    "print(total)"
   ]
  },
  {
   "cell_type": "markdown",
   "id": "alert-temple",
   "metadata": {},
   "source": [
    "#### Bosh!\n",
    "And like that, we have our results to both parts. We swap our file into `real_run` mode and can get our final results."
   ]
  }
 ],
 "metadata": {
  "kernelspec": {
   "display_name": "Python 3",
   "language": "python",
   "name": "python3"
  },
  "language_info": {
   "codemirror_mode": {
    "name": "ipython",
    "version": 3
   },
   "file_extension": ".py",
   "mimetype": "text/x-python",
   "name": "python",
   "nbconvert_exporter": "python",
   "pygments_lexer": "ipython3",
   "version": "3.9.2"
  }
 },
 "nbformat": 4,
 "nbformat_minor": 5
}
