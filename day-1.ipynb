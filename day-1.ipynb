{
 "cells": [
  {
   "cell_type": "markdown",
   "id": "varying-mambo",
   "metadata": {},
   "source": [
    "# Day 1 - Advent of Code 2022 (https://adventofcode.com/2022/day/1)\n",
    "## Data Preparation\n",
    "\n",
    "Before even looking at the problem I like to make sure that my data is prepared nicely. I paste the \"test\" input given on the description page into a file named `day1-test.txt` and the full puzzle input into `day1-input.txt`.\n",
    "We then want to read out this data and I link to start with it in a dictionary, where each line is an item in the list.\n",
    "\n",
    "I like to start with a variable which sets us into what **mode** we want to run it - I will set `real_run` to False to start with, to test with and get to grips with the problem. I will set it to True when I am ready to run the code for real and produce my output"
   ]
  },
  {
   "cell_type": "code",
   "execution_count": 1,
   "id": "sitting-candidate",
   "metadata": {},
   "outputs": [],
   "source": [
    "real_run = False"
   ]
  },
  {
   "cell_type": "code",
   "execution_count": 2,
   "id": "still-redhead",
   "metadata": {},
   "outputs": [],
   "source": [
    "# Set file name based on if we are in real or test mode.\n",
    "file_name = \"day1-input.txt\" if real_run else \"day1-test.txt\""
   ]
  },
  {
   "cell_type": "markdown",
   "id": "chubby-college",
   "metadata": {},
   "source": [
    "#### How do we get the input into a nice clean list, with no *bonus* characters?\n",
    "I like the following method, it is neat and all on one line. I don't want to fuss about opening the file and doing any more than I have to here. It uses the file `open` function, `rstrip` method and list comprehension.\n",
    "\n",
    "Resources:\n",
    "* open function: https://www.w3schools.com/python/ref_func_open.asp\n",
    "* rstrip method: https://www.w3schools.com/python/ref_string_rstrip.asp\n",
    "* list comprehension: https://www.w3schools.com/python/python_lists_comprehension.asp"
   ]
  },
  {
   "cell_type": "code",
   "execution_count": 3,
   "id": "authentic-bacon",
   "metadata": {},
   "outputs": [],
   "source": [
    "# create a list from the file, removing any '\\n' characters\n",
    "data = [line.rstrip('\\n') for line in open(file_name)]"
   ]
  },
  {
   "cell_type": "code",
   "execution_count": 4,
   "id": "fitting-probability",
   "metadata": {},
   "outputs": [
    {
     "name": "stdout",
     "output_type": "stream",
     "text": [
      "['1000', '2000', '3000', '', '4000', '', '5000', '6000', '', '7000', '8000', '9000', '', '10000']\n"
     ]
    }
   ],
   "source": [
    "# print data to check it's what we want it to be\n",
    "print(data)"
   ]
  },
  {
   "cell_type": "markdown",
   "id": "anonymous-filling",
   "metadata": {},
   "source": [
    "## Part One\n",
    "\n",
    "Now we have the test input in a useable format we are able to start looking at solving the problem...\n",
    "\n",
    "In case the Elves get hungry and need extra snacks, they need to know which Elf to ask: they'd like to know how many Calories are being carried by the Elf carrying the most Calories. \n",
    "\n",
    "In the test example, this is 24000 (carried by the fourth Elf)."
   ]
  },
  {
   "cell_type": "code",
   "execution_count": 5,
   "id": "accessible-toilet",
   "metadata": {},
   "outputs": [
    {
     "name": "stdout",
     "output_type": "stream",
     "text": [
      "[[1000, 2000, 3000], [4000], [5000, 6000], [7000, 8000, 9000], [10000]]\n"
     ]
    }
   ],
   "source": [
    "from itertools import groupby\n",
    "cals_per_elf = [list(map(int, g)) for k, g in groupby(data, key=bool) if k]\n",
    "if(not real_run):\n",
    "    print(cals_per_elf)"
   ]
  },
  {
   "cell_type": "code",
   "execution_count": 6,
   "id": "narrative-mozambique",
   "metadata": {},
   "outputs": [],
   "source": [
    "total_per_elf = [sum(x) for x in cals_per_elf]"
   ]
  },
  {
   "cell_type": "code",
   "execution_count": 7,
   "id": "supreme-verification",
   "metadata": {},
   "outputs": [
    {
     "name": "stdout",
     "output_type": "stream",
     "text": [
      "[6000, 4000, 11000, 24000, 10000]\n",
      "24000\n"
     ]
    }
   ],
   "source": [
    "print(total_per_elf)\n",
    "print(max(total_per_elf))"
   ]
  },
  {
   "cell_type": "markdown",
   "id": "forced-conducting",
   "metadata": {},
   "source": [
    "## Part Two\n",
    "\n",
    "\"By the time you calculate the answer to the Elves' question, they've already realized that the Elf carrying the most Calories of food might eventually run out of snacks.\n",
    "\n",
    "To avoid this unacceptable situation, the Elves would instead like to know the total Calories carried by the top three Elves carrying the most Calories. That way, even if one of those Elves runs out of snacks, they still have two backups.\n",
    "\n",
    "In the example above, the top three Elves are the fourth Elf (with 24000 Calories), then the third Elf (with 11000 Calories), then the fifth Elf (with 10000 Calories). The sum of the Calories carried by these three elves is 45000.\n",
    "\n",
    "Find the top three Elves carrying the most Calories. How many Calories are those Elves carrying in total?\""
   ]
  },
  {
   "cell_type": "code",
   "execution_count": 8,
   "id": "public-homeless",
   "metadata": {},
   "outputs": [
    {
     "name": "stdout",
     "output_type": "stream",
     "text": [
      "[4000, 6000, 10000, 11000, 24000]\n",
      "[10000, 11000, 24000]\n"
     ]
    }
   ],
   "source": [
    "# sort total per elf\n",
    "sorted_per_elf = sorted(total_per_elf)\n",
    "top_three = sorted_per_elf[-3:]\n",
    "\n",
    "if(not real_run):\n",
    "    print(sorted_per_elf)\n",
    "    print(top_three)"
   ]
  },
  {
   "cell_type": "code",
   "execution_count": 9,
   "id": "raised-migration",
   "metadata": {},
   "outputs": [
    {
     "name": "stdout",
     "output_type": "stream",
     "text": [
      "45000\n"
     ]
    }
   ],
   "source": [
    "print(sum(top_three))"
   ]
  },
  {
   "cell_type": "markdown",
   "id": "alert-temple",
   "metadata": {},
   "source": [
    "#### Bosh!\n",
    "And like that, we have our results to both parts. We swap our file into `real_run` mode and can get our final results."
   ]
  }
 ],
 "metadata": {
  "kernelspec": {
   "display_name": "Python 3",
   "language": "python",
   "name": "python3"
  },
  "language_info": {
   "codemirror_mode": {
    "name": "ipython",
    "version": 3
   },
   "file_extension": ".py",
   "mimetype": "text/x-python",
   "name": "python",
   "nbconvert_exporter": "python",
   "pygments_lexer": "ipython3",
   "version": "3.9.2"
  }
 },
 "nbformat": 4,
 "nbformat_minor": 5
}
